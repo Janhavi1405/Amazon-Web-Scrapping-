{
 "cells": [
  {
   "cell_type": "code",
   "execution_count": 1,
   "id": "f7116cb5",
   "metadata": {},
   "outputs": [
    {
     "name": "stdout",
     "output_type": "stream",
     "text": [
      "Requirement already satisfied: pandas in c:\\users\\hp\\anaconda3\\lib\\site-packages (1.2.4)Note: you may need to restart the kernel to use updated packages.\n",
      "Requirement already satisfied: requests in c:\\users\\hp\\anaconda3\\lib\\site-packages (2.25.1)\n",
      "Requirement already satisfied: BeautifulSoup4 in c:\\users\\hp\\anaconda3\\lib\\site-packages (4.9.3)\n",
      "Requirement already satisfied: soupsieve>1.2 in c:\\users\\hp\\anaconda3\\lib\\site-packages (from BeautifulSoup4) (2.2.1)\n",
      "Requirement already satisfied: pytz>=2017.3 in c:\\users\\hp\\anaconda3\\lib\\site-packages (from pandas) (2021.1)\n",
      "Requirement already satisfied: python-dateutil>=2.7.3 in c:\\users\\hp\\anaconda3\\lib\\site-packages (from pandas) (2.8.1)\n",
      "Requirement already satisfied: numpy>=1.16.5 in c:\\users\\hp\\anaconda3\\lib\\site-packages (from pandas) (1.20.1)\n",
      "Requirement already satisfied: six>=1.5 in c:\\users\\hp\\anaconda3\\lib\\site-packages (from python-dateutil>=2.7.3->pandas) (1.15.0)\n",
      "Requirement already satisfied: idna<3,>=2.5 in c:\\users\\hp\\anaconda3\\lib\\site-packages (from requests) (2.10)\n",
      "Requirement already satisfied: chardet<5,>=3.0.2 in c:\\users\\hp\\anaconda3\\lib\\site-packages (from requests) (4.0.0)\n",
      "Requirement already satisfied: urllib3<1.27,>=1.21.1 in c:\\users\\hp\\anaconda3\\lib\\site-packages (from requests) (1.26.4)\n",
      "\n",
      "Requirement already satisfied: certifi>=2017.4.17 in c:\\users\\hp\\anaconda3\\lib\\site-packages (from requests) (2020.12.5)\n"
     ]
    }
   ],
   "source": [
    "pip install pandas requests BeautifulSoup4"
   ]
  },
  {
   "cell_type": "code",
   "execution_count": 2,
   "id": "f31128d6",
   "metadata": {},
   "outputs": [],
   "source": [
    "from bs4 import BeautifulSoup\n",
    "import requests\n",
    "import time\n",
    "import datetime\n",
    "\n",
    "import smtplib"
   ]
  },
  {
   "cell_type": "code",
   "execution_count": 43,
   "id": "5f01dfaa",
   "metadata": {},
   "outputs": [
    {
     "name": "stdout",
     "output_type": "stream",
     "text": [
      "\n",
      "                   Casio Vintage Series Digital Rose Gold Dial Women's Watch-B640WC-5ADF\n",
      "                  \n",
      "\n",
      "                  ₹5,995.00\n",
      "                 \n"
     ]
    }
   ],
   "source": [
    "# Connect to Website and pull in data\n",
    "\n",
    "URL = 'https://www.amazon.in/Casio-Vintage-Digital-Womens-Watch-B640WC-5ADF/dp/B008PDQT6I/ref=sr_1_7?keywords=watches+for+women+casio&qid=1658008347&sprefix=watces+for+women+ca%2Caps%2C388&sr=8-7'\n",
    "\n",
    "headers = {\"User-Agent\": \"Mozilla/5.0 (Windows NT 10.0; Win64; x64) AppleWebKit/537.36 (KHTML, like Gecko) Chrome/103.0.0.0 Safari/537.36\", \"Accept-Encoding\":\"gzip, deflate\", \"Accept\":\"text/html,application/xhtml+xml,application/xml;q=0.9,*/*;q=0.8\", \"DNT\":\"1\",\"Connection\":\"close\", \"Upgrade-Insecure-Requests\":\"1\"}\n",
    "\n",
    "page = requests.get(URL, headers=headers)\n",
    "\n",
    "soup1 = BeautifulSoup(page.content, \"html.parser\")\n",
    "\n",
    "soup2 = BeautifulSoup(soup1.prettify(), \"html.parser\")\n",
    "\n",
    "title = soup2.find(id='productTitle').get_text()\n",
    "\n",
    "price = soup2.find(class_='a-offscreen').get_text()\n",
    "\n",
    "print(title)\n",
    "print(price)\n"
   ]
  },
  {
   "cell_type": "code",
   "execution_count": 44,
   "id": "a3a0e453",
   "metadata": {},
   "outputs": [
    {
     "name": "stdout",
     "output_type": "stream",
     "text": [
      "Casio Vintage Series Digital Rose Gold Dial Women's Watch-B640WC-5ADF\n",
      "5,995.00\n"
     ]
    }
   ],
   "source": [
    "# Clean up the data a little bit\n",
    "size = len(price)\n",
    "price = price.strip()[1:]   #[1: = to take values from 1st position and leave out dollar, as we are going to make a table in excel later]\n",
    "title = title.strip()       #strip- o solve the problem of awkward spacings, remove it\n",
    "\n",
    "print(title)\n",
    "print(price)\n",
    "\n",
    "#type(price)- output is str\n",
    "\n",
    "#size = len(org_string)\n",
    "# Slice string to remove last 3 characters from string\n",
    "#mod_string = org_string[:size - 3]"
   ]
  },
  {
   "cell_type": "code",
   "execution_count": 45,
   "id": "7194093c",
   "metadata": {},
   "outputs": [
    {
     "name": "stdout",
     "output_type": "stream",
     "text": [
      "2022-07-17\n"
     ]
    }
   ],
   "source": [
    "# Create a Timestamp for your output to track when data was collected\n",
    "\n",
    "import datetime\n",
    "\n",
    "today = datetime.date.today()\n",
    "\n",
    "print(today)"
   ]
  },
  {
   "cell_type": "code",
   "execution_count": 46,
   "id": "1a5935f7",
   "metadata": {},
   "outputs": [],
   "source": [
    "# Create CSV and write headers and data into the file\n",
    "\n",
    "import csv \n",
    "\n",
    "header = ['Title', 'Price', 'Date']  #col headings\n",
    "data = [title, price, today]  #converting data type from str to list\n",
    "\n",
    "# type(data)- output:list\n",
    "\n",
    "# open the file in the write mode, (file name given by us,any.)\n",
    "with open('AmazonWebScraper.csv', 'w', newline='', encoding='UTF8') as f:    #w- writer mode, UTF8- Unicode character to string/binary and vice-versa.\n",
    "    writer = csv.writer(f)  #create a CSV writer object\n",
    "    writer.writerow(header)  #creating col headings in csv file\n",
    "    writer.writerow(data)  #adding data to it, i.e 16.99 & Fun Got..(title)"
   ]
  },
  {
   "cell_type": "code",
   "execution_count": 55,
   "id": "458d0d0f",
   "metadata": {},
   "outputs": [
    {
     "name": "stdout",
     "output_type": "stream",
     "text": [
      "                                               Title     Price        Date\n",
      "0  Casio Vintage Series Digital Rose Gold Dial Wo...  5,995.00  2022-07-17\n",
      "1  Casio Vintage Series Digital Rose Gold Dial Wo...  5,995.00  2022-07-17\n",
      "2  Casio Vintage Series Digital Rose Gold Dial Wo...  5,995.00  2022-07-17\n",
      "3  Casio Vintage Series Digital Rose Gold Dial Wo...  5,995.00  2022-07-17\n",
      "4  Casio Vintage Series Digital Rose Gold Dial Wo...  5,995.00  2022-07-17\n",
      "5  Casio Vintage Series Digital Rose Gold Dial Wo...  5,995.00  2022-07-17\n",
      "6  Casio Vintage Series Digital Rose Gold Dial Wo...  5,995.00  2022-07-17\n"
     ]
    }
   ],
   "source": [
    "#(visualizing our entries in the csv file, table form)\n",
    "\n",
    "import pandas as pd\n",
    "\n",
    "\n",
    "\n",
    "df = pd.read_csv(r'C:\\Users\\HP\\Amazon Web Scrapping Project\\AmazonWebScraper.csv')  #dataframe created to read/access a csv file\n",
    "\n",
    "\n",
    "print(df)"
   ]
  },
  {
   "cell_type": "code",
   "execution_count": 50,
   "id": "78f558a8",
   "metadata": {},
   "outputs": [],
   "source": [
    "#Now we are appending data to the csv\n",
    "\n",
    "with open('AmazonWebScraper.csv', 'a+', newline='', encoding='UTF8') as f:  # a+ used to append info.\n",
    "    writer = csv.writer(f)  #we don't need header creation, as col headings created once(baar baar not done)\n",
    "    writer.writerow(data)  # adding new entries to table.\n",
    "    \n",
    "#(Running this once appends another record, we verify the addition by running the above block, which displays table contents)"
   ]
  },
  {
   "cell_type": "code",
   "execution_count": 57,
   "id": "a7b20ea9",
   "metadata": {},
   "outputs": [],
   "source": [
    "#Combine all of the above code into one function\n",
    "\n",
    "#(making this automatic)\n",
    "\n",
    "def check_price():\n",
    "    URL = 'https://www.amazon.in/Casio-Vintage-Digital-Womens-Watch-B640WC-5ADF/dp/B008PDQT6I/ref=sr_1_7?keywords=watches+for+women+casio&qid=1658008347&sprefix=watces+for+women+ca%2Caps%2C388&sr=8-7'\n",
    "\n",
    "    headers = {\"User-Agent\": \"Mozilla/5.0 (Windows NT 10.0; Win64; x64) AppleWebKit/537.36 (KHTML, like Gecko) Chrome/78.0.3904.108 Safari/537.36\", \"Accept-Encoding\":\"gzip, deflate\", \"Accept\":\"text/html,application/xhtml+xml,application/xml;q=0.9,*/*;q=0.8\", \"DNT\":\"1\",\"Connection\":\"close\", \"Upgrade-Insecure-Requests\":\"1\"}\n",
    "\n",
    "    page = requests.get(URL, headers=headers)\n",
    "\n",
    "    soup1 = BeautifulSoup(page.content, \"html.parser\")\n",
    "\n",
    "    soup2 = BeautifulSoup(soup1.prettify(), \"html.parser\")\n",
    "\n",
    "    title = soup2.find(id='productTitle').get_text()\n",
    "\n",
    "    price = soup2.find(class_='a-offscreen').get_text()\n",
    "\n",
    "    price = price.strip()[1:]\n",
    "    title = title.strip()\n",
    "\n",
    "    import datetime\n",
    "\n",
    "    today = datetime.date.today()\n",
    "    \n",
    "    import csv \n",
    "\n",
    "    header = ['Title', 'Price', 'Date']\n",
    "    data = [title, price, today]\n",
    "\n",
    "    with open('AmazonWebScraper.csv', 'a+', newline='', encoding='UTF8') as f:\n",
    "        writer = csv.writer(f)\n",
    "        writer.writerow(data)\n",
    "\n",
    "    if(price ==5995):\n",
    "        send_email()\n",
    "\n",
    "      "
   ]
  },
  {
   "cell_type": "code",
   "execution_count": 54,
   "id": "164c13ba",
   "metadata": {},
   "outputs": [
    {
     "ename": "KeyboardInterrupt",
     "evalue": "",
     "output_type": "error",
     "traceback": [
      "\u001b[1;31m---------------------------------------------------------------------------\u001b[0m",
      "\u001b[1;31mKeyboardInterrupt\u001b[0m                         Traceback (most recent call last)",
      "\u001b[1;32m<ipython-input-54-41798b250f2d>\u001b[0m in \u001b[0;36m<module>\u001b[1;34m\u001b[0m\n\u001b[0;32m      4\u001b[0m \u001b[1;32mwhile\u001b[0m\u001b[1;33m(\u001b[0m\u001b[1;32mTrue\u001b[0m\u001b[1;33m)\u001b[0m\u001b[1;33m:\u001b[0m\u001b[1;33m\u001b[0m\u001b[1;33m\u001b[0m\u001b[0m\n\u001b[0;32m      5\u001b[0m     \u001b[0mcheck_price\u001b[0m\u001b[1;33m(\u001b[0m\u001b[1;33m)\u001b[0m\u001b[1;33m\u001b[0m\u001b[1;33m\u001b[0m\u001b[0m\n\u001b[1;32m----> 6\u001b[1;33m     \u001b[0mtime\u001b[0m\u001b[1;33m.\u001b[0m\u001b[0msleep\u001b[0m\u001b[1;33m(\u001b[0m\u001b[1;36m5\u001b[0m\u001b[1;33m)\u001b[0m \u001b[1;31m#earlier we had 0,1,2 cases now 3-7 i.e five new added wen done for 30 secs\u001b[0m\u001b[1;33m\u001b[0m\u001b[1;33m\u001b[0m\u001b[0m\n\u001b[0m\u001b[0;32m      7\u001b[0m \u001b[1;33m\u001b[0m\u001b[0m\n\u001b[0;32m      8\u001b[0m     \u001b[1;31m#86400 day\u001b[0m\u001b[1;33m\u001b[0m\u001b[1;33m\u001b[0m\u001b[1;33m\u001b[0m\u001b[0m\n",
      "\u001b[1;31mKeyboardInterrupt\u001b[0m: "
     ]
    }
   ],
   "source": [
    "# Runs check_price after a set time and inputs data into your CSV\n",
    "#time constraint, sleep(5)- means function check_price runs after every 5 secs.\n",
    "\n",
    "while(True):\n",
    "    check_price()\n",
    "    time.sleep(5) #earlier we had 0,1,2 cases now 3-6 i.e five new added wen done for 20 secs\n",
    "    \n",
    "    #86400 day"
   ]
  },
  {
   "cell_type": "code",
   "execution_count": 56,
   "id": "4f2cf19f",
   "metadata": {},
   "outputs": [],
   "source": [
    "#sending yourself an email when a price hits below a certain level\n",
    "\n",
    "def send_mail():\n",
    "    server = smtplib.SMTP_SSL('smtp.gmail.com',465)  #working with gmail\n",
    "\n",
    "    # Extended HELO (EHLO) is (ESMTP) command sent by an email server to identify itself when connecting to another email server to start the process of sending an email\n",
    "    server.ehlo()\n",
    "    #server.starttls()  #Encrypt our connection\n",
    "    server.ehlo()   #Reidentify our connection as encrypted with the mail server\n",
    "    server.login('janhavi.sharma1405@gmail.com','Janhavi1405')  #add your own password\n",
    "    \n",
    "    subject = \"The Shirt you want is below $15! Now is your chance to buy!\"\n",
    "    body = \"Alex, This is the moment we have been waiting for. Now is your chance to pick up the shirt of your dreams. Don't mess it up! Link here: https://www.amazon.com/Funny-Data-Systems-Business-Analyst/dp/B07FNW9FGJ/ref=sr_1_3?dchild=1&keywords=data+analyst+tshirt&qid=1626655184&sr=8-3\"\n",
    "   \n",
    "    msg = f\"Subject: {subject}\\n\\n{body}\"\n",
    "    \n",
    "    #smtp.sendmail(sender_email, reciever_email, message)- format\n",
    "    server.sendmail(\n",
    "        'janhavi.sharma1405@gmail.com',\n",
    "        msg\n",
    "     \n",
    "    )"
   ]
  }
 ],
 "metadata": {
  "kernelspec": {
   "display_name": "Python 3",
   "language": "python",
   "name": "python3"
  },
  "language_info": {
   "codemirror_mode": {
    "name": "ipython",
    "version": 3
   },
   "file_extension": ".py",
   "mimetype": "text/x-python",
   "name": "python",
   "nbconvert_exporter": "python",
   "pygments_lexer": "ipython3",
   "version": "3.8.8"
  }
 },
 "nbformat": 4,
 "nbformat_minor": 5
}
